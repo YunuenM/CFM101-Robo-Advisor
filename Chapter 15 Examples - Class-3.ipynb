{
 "cells": [
  {
   "cell_type": "code",
   "execution_count": 1,
   "id": "3d8e4dc9",
   "metadata": {
    "scrolled": false
   },
   "outputs": [],
   "source": [
    "from IPython.display import display, Math, Latex\n",
    "\n",
    "import pandas as pd\n",
    "import numpy as np\n",
    "import numpy_financial as npf\n",
    "import yfinance as yf\n",
    "import matplotlib.pyplot as plt"
   ]
  },
  {
   "cell_type": "markdown",
   "id": "25cefb97",
   "metadata": {},
   "source": [
    "# Total Return Examples\n",
    "\n",
    "Example 1: You bought TD bank shares for $\\$72.50$ and sold one year later for $\\$81.23$.  During that year, $2.75 of dividends were paid.  What is the total \\% return?\n",
    "\n",
    "Example 2: A 6\\% $\\$100$ face value bond was bought for $\\$95.50$ and sold after one year for $\\$94.45$. Assume that coupons are paid annually.  What is the total \\% return?\n"
   ]
  },
  {
   "cell_type": "code",
   "execution_count": 2,
   "id": "99632556",
   "metadata": {},
   "outputs": [
    {
     "name": "stdout",
     "output_type": "stream",
     "text": [
      "The Total Return for TD is: 15.83%\n",
      "The Total Return for the Bond is: 5.18%\n"
     ]
    }
   ],
   "source": [
    "#Variables for TD\n",
    "Cash_Flow_TD=2.75\n",
    "Begin_Value_TD=72.50\n",
    "End_Value_TD=81.23\n",
    "\n",
    "#Declare Variables for example 2 Bond\n",
    "Cash_Flow_Bond= 6\n",
    "Begin_Value_Bond=95.50\n",
    "End_Value_Bond=94.45\n",
    "\n",
    "#Calculate return percentage taking into acount beginning and end value, as well as any cash flows paid in the interim\n",
    "Total_Return_TD= 100 * ((Cash_Flow_TD + (End_Value_TD - Begin_Value_TD))/Begin_Value_TD)\n",
    "Total_Return_Bond= 100 * ((Cash_Flow_Bond + (End_Value_Bond - Begin_Value_Bond))/Begin_Value_Bond)\n",
    "print(\"The Total Return for TD is: \", round(Total_Return_TD,2),\"%\", sep='')\n",
    "print(\"The Total Return for the Bond is: \", round(Total_Return_Bond,2),\"%\", sep='')"
   ]
  },
  {
   "cell_type": "markdown",
   "id": "75913c58",
   "metadata": {},
   "source": [
    "## Percentage Returns, Expected Returns and Correlations\n"
   ]
  },
  {
   "cell_type": "code",
   "execution_count": 3,
   "id": "46b1d1cf",
   "metadata": {},
   "outputs": [
    {
     "name": "stdout",
     "output_type": "stream",
     "text": [
      "lazy-loading dict with keys = ['currency', 'dayHigh', 'dayLow', 'exchange', 'fiftyDayAverage', 'lastPrice', 'lastVolume', 'marketCap', 'open', 'previousClose', 'quoteType', 'regularMarketPreviousClose', 'shares', 'tenDayAverageVolume', 'threeMonthAverageVolume', 'timezone', 'twoHundredDayAverage', 'yearChange', 'yearHigh', 'yearLow']\n"
     ]
    }
   ],
   "source": [
    "#To Learn about expected returns and correlations, let's look at telus and BCE.  \n",
    "#Do you think they should be positively correlated?\n",
    "\n",
    "Stock1='t.to'\n",
    "Stock2='bce.to'\n",
    "Ticker1 = yf.Ticker(Stock1)\n",
    "Ticker2 = yf.Ticker(Stock2)\n",
    "\n",
    "start_date = '2020-01-01'\n",
    "end_date = '2022-04-25'\n",
    "\n",
    "Stock1_hist = Ticker1.history(start=start_date, end=end_date)\n",
    "Stock2_hist = Ticker2.history(start=start_date, end=end_date)\n",
    "print(Ticker2.fast_info)\n",
    "prices = pd.DataFrame(Stock1_hist['Close'])\n",
    "prices.columns = [Stock1]\n",
    "prices[Stock2] = Stock2_hist['Close']\n",
    "#prices.head()\n",
    "\n",
    "#Prior to coming to class - understand what we are doing here\n",
    "#use pct_change() to convert daily prices to daily returns.\n",
    "daily_returns = prices.pct_change()\n",
    "daily_returns.drop(index=daily_returns.index[0], inplace=True)\n",
    "#daily_returns.head()\n",
    "\n",
    "#We want to go from daily returns to monthly returns.  Many ways to do this.  We could take an average return over\n",
    "#the month for example.  Here we just want to get the overall monthly return, i.e., from the first day to the last day\n",
    "#.resample('') will convert to monthly.  the parameter M will use the last day, MS will use the first day.  ffill fills\n",
    "# in missing data (e.g., if we are using 'M' and there is no data on the last day, ffill will grab it from one day ahead)\n",
    "monthly_returns=prices.resample('M').ffill().pct_change()\n",
    "monthly_returns.drop(index=monthly_returns.index[0], inplace=True)\n",
    "#monthly_returns.head()"
   ]
  },
  {
   "cell_type": "markdown",
   "id": "5e8c594b",
   "metadata": {},
   "source": [
    "##### Let's graph the monthly returns of each stock.  Do they tend to move together, apart, or no relationship?\n",
    "plt.figure(figsize=(20,15))\n",
    "\n",
    "plt.plot(monthly_returns.index,monthly_returns[Stock1], color='b', label=Stock1)\n",
    "plt.plot(monthly_returns.index,monthly_returns[Stock2], color='r', label=Stock2)\n",
    "plt.legend(loc='best')\n",
    "plt.title('Monthly Returns')\n",
    "plt.xlabel('Date')\n",
    "plt.ylabel('Percent Change (%)')\n",
    "\n",
    "plt.show()"
   ]
  },
  {
   "cell_type": "markdown",
   "id": "0e8417a7",
   "metadata": {},
   "source": [
    "### Expected returns\n",
    "\n",
    "\\begin{align*}\n",
    "E(X)=\\overline{X}=\\frac{\\sum x_i}{N}\n",
    "\\end{align*}\n",
    "\n",
    "where $x_i$ are individual returns of some security $X$, $N$ is the total number of observations (time periods for us)\n",
    "\n",
    "### Variance\n",
    "\n",
    "\\begin{align*}\n",
    "\\sigma^2_X=\\frac{\\sum(x_i-\\overline{X})^2}{N}\n",
    "\\end{align*}\n",
    "\n",
    "### Standard Deviation\n",
    "\n",
    "\\begin{align*}\n",
    "\\sigma_X=\\sqrt{\\frac{\\sum(x_i-\\overline{X})^2}{N}}\n",
    "\\end{align*}\n",
    "\n",
    "### Covariance\n",
    "\n",
    "Let's consider the relationship between two securities $X$ and $Y$.\n",
    "\n",
    "\\begin{align*}\n",
    "COV(X,Y)=\\frac{\\sum(x_i-\\overline{X})\\times(y_i-\\overline{Y})}{N}\n",
    "\\end{align*}\n",
    "\n",
    "### Correlation\n",
    "\n",
    "Very similar to Covariance, except standardized so that it takes a value between $-1$ and $1$\n",
    "\n",
    "\\begin{align*}\n",
    "COR(X,Y)=\\frac{COV(X,Y)}{\\sigma_X \\times \\sigma_Y}\n",
    "\\end{align*}\n"
   ]
  },
  {
   "cell_type": "code",
   "execution_count": 4,
   "id": "b3b13c63",
   "metadata": {},
   "outputs": [
    {
     "name": "stdout",
     "output_type": "stream",
     "text": [
      "Expected Monthly Returns:\n",
      "t.to      0.013175\n",
      "bce.to    0.010745\n",
      "dtype: float64\n",
      "\n",
      "Standard Deviations:\n",
      "t.to      0.041882\n",
      "bce.to    0.028864\n",
      "dtype: float64\n",
      "\n",
      "Correlation:\n",
      "           t.to   bce.to\n",
      "t.to    1.00000  0.55707\n",
      "bce.to  0.55707  1.00000\n"
     ]
    }
   ],
   "source": [
    "print('Expected Monthly Returns:')\n",
    "print(monthly_returns.mean())\n",
    "\n",
    "print('')\n",
    "\n",
    "print('Standard Deviations:')\n",
    "print(monthly_returns.std())\n",
    "\n",
    "print('')\n",
    "\n",
    "print('Correlation:')\n",
    "print(monthly_returns.corr())"
   ]
  },
  {
   "cell_type": "markdown",
   "id": "d0923d89",
   "metadata": {},
   "source": [
    "## Beta\n",
    "\n",
    "Consider Security $X$ with returns given by $x_i$, and let the correponding market returns be $r_M$.  Beta is then given by:\n",
    "\n",
    "\\begin{align*}\n",
    "\\beta=\\frac{COV(x_i,r_M)}{\\sigma^2(r_M)}\n",
    "\\end{align*}"
   ]
  },
  {
   "cell_type": "code",
   "execution_count": 7,
   "id": "094b163e",
   "metadata": {},
   "outputs": [],
   "source": [
    "Stock1='NFLX'\n",
    "MarketIndex='^GSPC' #This is the symbol yfinance uses for the S&P 500\n",
    "Ticker1 = yf.Ticker(Stock1)\n",
    "Ticker2 = yf.Ticker(MarketIndex)\n",
    "\n",
    "start_date = '2018-01-01'\n",
    "end_date = '2022-05-25'\n",
    "\n",
    "Stock1_hist = Ticker1.history(start=start_date, end=end_date)\n",
    "MarketIndex_hist = Ticker2.history(start=start_date, end=end_date)\n"
   ]
  },
  {
   "cell_type": "code",
   "execution_count": 9,
   "id": "0b363546",
   "metadata": {},
   "outputs": [
    {
     "name": "stdout",
     "output_type": "stream",
     "text": [
      "                                 NFLX        ^GSPC\n",
      "Date                                              \n",
      "2018-01-02 00:00:00-05:00  201.070007  2695.810059\n",
      "2018-01-03 00:00:00-05:00  205.050003  2713.060059\n",
      "2018-01-04 00:00:00-05:00  205.630005  2723.989990\n",
      "2018-01-05 00:00:00-05:00  209.990005  2743.149902\n",
      "2018-01-08 00:00:00-05:00  212.050003  2747.709961\n",
      "                               NFLX     ^GSPC\n",
      "Date                                         \n",
      "2018-01-03 00:00:00-05:00  0.019794  0.006399\n",
      "2018-01-04 00:00:00-05:00  0.002829  0.004029\n",
      "2018-01-05 00:00:00-05:00  0.021203  0.007034\n",
      "2018-01-08 00:00:00-05:00  0.009810  0.001662\n",
      "2018-01-09 00:00:00-05:00 -0.012922  0.001303\n",
      "                               NFLX     ^GSPC\n",
      "Date                                         \n",
      "2018-02-28 00:00:00-05:00  0.077987 -0.038947\n",
      "2018-03-31 00:00:00-04:00  0.013625 -0.026884\n",
      "2018-04-30 00:00:00-04:00  0.057931  0.002719\n",
      "2018-05-31 00:00:00-04:00  0.125264  0.021608\n",
      "2018-06-30 00:00:00-04:00  0.113282  0.004842\n"
     ]
    }
   ],
   "source": [
    "prices = pd.DataFrame(Stock1_hist['Close'])\n",
    "prices.columns = [Stock1]\n",
    "prices[MarketIndex] = MarketIndex_hist['Close']\n",
    "print(prices.head())\n",
    "\n",
    "#Do the same as before to get the monthly returns and then drop the first entry.\n",
    "\n",
    "daily_returns = prices.pct_change()\n",
    "daily_returns.drop(index=daily_returns.index[0], inplace=True)\n",
    "\n",
    "\n",
    "print(daily_returns.head())\n",
    "\n",
    "monthly_returns=prices.resample('M').ffill().pct_change()\n",
    "monthly_returns.drop(index=monthly_returns.index[0], inplace=True)\n",
    "print(monthly_returns.head())"
   ]
  },
  {
   "cell_type": "code",
   "execution_count": null,
   "id": "10ab24a3",
   "metadata": {},
   "outputs": [],
   "source": [
    "#calculate the market variance (you will need to reference the column correponding to the market)\n",
    "MarketVar=INSERT CALCULATION\n",
    "\n",
    "#calculate beta by taking a covariance (.cov()), and using MarketrVar that was just defined.\n",
    "Beta=INSERT CALCULATION\n",
    "\n",
    "print(Beta)\n",
    "\n",
    "print('')\n",
    "print('Cell [0,0] is meaningless (to get beta, we divided by the variance of the market!)')\n",
    "print('')\n",
    "\n",
    "print('The Beta of Netflix is: ', Beta.iat[0,1])\n",
    "print('The Beta of the Market is: ', Beta.iat[1,1])\n"
   ]
  }
 ],
 "metadata": {
  "kernelspec": {
   "display_name": "bp",
   "language": "python",
   "name": "bp"
  },
  "language_info": {
   "codemirror_mode": {
    "name": "ipython",
    "version": 3
   },
   "file_extension": ".py",
   "mimetype": "text/x-python",
   "name": "python",
   "nbconvert_exporter": "python",
   "pygments_lexer": "ipython3",
   "version": "3.11.4"
  }
 },
 "nbformat": 4,
 "nbformat_minor": 5
}
