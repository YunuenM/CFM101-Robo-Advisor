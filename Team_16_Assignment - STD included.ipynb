{
 "cells": [
  {
   "cell_type": "code",
   "execution_count": 18,
   "metadata": {},
   "outputs": [],
   "source": [
    "from IPython.display import display, Math, Latex\n",
    "\n",
    "import pandas as pd\n",
    "import numpy as np\n",
    "import numpy_financial as npf\n",
    "import yfinance as yf\n",
    "import matplotlib.pyplot as plt\n",
    "from datetime import datetime"
   ]
  },
  {
   "cell_type": "markdown",
   "metadata": {},
   "source": [
    "## Group Assignment\n",
    "### Team Number: 16\n",
    "### Team Member Names: Matthew Gong, Arya Patel, Saihej Singh\n",
    "### Team Strategy Chosen: __________(RISKY OR SAFE)"
   ]
  },
  {
   "cell_type": "code",
   "execution_count": 55,
   "metadata": {},
   "outputs": [
    {
     "name": "stderr",
     "output_type": "stream",
     "text": [
      "AGN: No timezone found, symbol may be delisted\n"
     ]
    },
    {
     "name": "stdout",
     "output_type": "stream",
     "text": [
      "AGN is delisted.\n"
     ]
    },
    {
     "name": "stderr",
     "output_type": "stream",
     "text": [
      "CELG: No timezone found, symbol may be delisted\n"
     ]
    },
    {
     "name": "stdout",
     "output_type": "stream",
     "text": [
      "CELG is delisted.\n"
     ]
    },
    {
     "name": "stderr",
     "output_type": "stream",
     "text": [
      "MON: No timezone found, symbol may be delisted\n"
     ]
    },
    {
     "name": "stdout",
     "output_type": "stream",
     "text": [
      "MON is delisted.\n"
     ]
    },
    {
     "name": "stderr",
     "output_type": "stream",
     "text": [
      "RTN: No timezone found, symbol may be delisted\n"
     ]
    },
    {
     "name": "stdout",
     "output_type": "stream",
     "text": [
      "RTN is delisted.\n",
      "USB is a duplicate.\n",
      "CAD Stocks:  ['RY.TO', 'SHOP.TO', 'T.TO', 'TD.TO']\n",
      "USD Stocks:  ['ABBV', 'ABT', 'ACN', 'AIG', 'AMZN', 'AXP', 'BA', 'BAC', 'BIIB', 'BK', 'BLK', 'BMY', 'C', 'CAT', 'CL', 'KO', 'LLY', 'LMT', 'MO', 'MRK', 'PEP', 'PFE', 'PG', 'PM', 'PYPL', 'QCOM', 'TXN', 'UNH', 'UNP', 'UPS', 'USB']\n",
      "All Valid Stocks:  ['ABBV', 'ABT', 'ACN', 'AIG', 'AMZN', 'AXP', 'BA', 'BAC', 'BIIB', 'BK', 'BLK', 'BMY', 'C', 'CAT', 'CL', 'KO', 'LLY', 'LMT', 'MO', 'MRK', 'PEP', 'PFE', 'PG', 'PM', 'PYPL', 'QCOM', 'RY.TO', 'SHOP.TO', 'T.TO', 'TD.TO', 'TXN', 'UNH', 'UNP', 'UPS', 'USB']\n"
     ]
    }
   ],
   "source": [
    "possibleTickers = pd.read_csv(\"Tickers_Example.csv\")\n",
    "tickers = []\n",
    "tickers_hist = {}\n",
    "tickers_long_hist = {}\n",
    "minVolume = 150000\n",
    "allowed_currencies = [\"USD\", \"CAD\"]\n",
    "start_date = \"2023-01-01\"\n",
    "end_date = \"2023-10-31\"\n",
    "long_start_date = \"2018-10-31\"\n",
    "threshold_day = 18\n",
    "days_in_month = []\n",
    "\n",
    "CAD_stocks = []\n",
    "USD_stocks = []\n",
    "\n",
    "for ticker in possibleTickers[possibleTickers.columns.values[0]]:\n",
    "    currTicker = yf.Ticker(ticker)\n",
    "    currHist = currTicker.history(start=start_date, end=end_date)\n",
    "    currFastInfo = currTicker.fast_info\n",
    "\n",
    "    if currHist.empty:\n",
    "        print(ticker, \"is delisted.\")\n",
    "    elif ticker in tickers:\n",
    "        print(ticker, \"is a duplicate.\")\n",
    "    else:\n",
    "        tickers_hist[ticker] = currHist\n",
    "        tickers_long_hist[ticker] = currTicker.history(start=long_start_date, end=end_date)\n",
    "\n",
    "        group_months = currHist.reset_index().groupby(pd.Grouper(key='Date', freq='M'))\n",
    "        dfs = [group for _, group in group_months]\n",
    "        filtered_dfs = []\n",
    "        for i, df in enumerate(dfs):\n",
    "            #recombine all the months with more trading days than set threshold\n",
    "            if len(df.index) >= threshold_day:\n",
    "                days_in_month.append(len(df.index))\n",
    "                filtered_dfs.append(df)\n",
    "        currHist_updated = pd.concat(filtered_dfs)\n",
    "        currHist_updated.set_index(\"Date\", inplace=True)\n",
    "\n",
    "        if currFastInfo[\"currency\"] not in allowed_currencies:\n",
    "            print(ticker, \"is not in USD or CAD\")\n",
    "        elif currHist[\"Volume\"].mean() * (np.mean(days_in_month)) < minVolume:\n",
    "            print(ticker, \"only has a volume of\", currFastInfo[\"lastVolume\"], \"and average days of\", np.mean(days_in_month))\n",
    "        else:\n",
    "            tickers.append(ticker)\n",
    "            if currFastInfo['currency'] == 'USD':\n",
    "                USD_stocks.append(ticker)\n",
    "            elif currFastInfo['currency'] == 'CAD':\n",
    "                CAD_stocks.append(ticker)\n",
    "                \n",
    "            \n",
    "            \n",
    "print(\"CAD Stocks: \", CAD_stocks)\n",
    "print(\"USD Stocks: \", USD_stocks)\n",
    "print(\"All Valid Stocks: \", tickers)"
   ]
  },
  {
   "cell_type": "code",
   "execution_count": 68,
   "metadata": {},
   "outputs": [
    {
     "ename": "ValueError",
     "evalue": "operands could not be broadcast together with shapes (208,) (216,) ",
     "output_type": "error",
     "traceback": [
      "\u001b[0;31m---------------------------------------------------------------------------\u001b[0m",
      "\u001b[0;31mValueError\u001b[0m                                Traceback (most recent call last)",
      "Cell \u001b[0;32mIn[68], line 18\u001b[0m\n\u001b[1;32m     15\u001b[0m     stocks_df\u001b[38;5;241m.\u001b[39mdropna()\n\u001b[1;32m     17\u001b[0m     \u001b[38;5;28;01mif\u001b[39;00m currTicker\u001b[38;5;241m.\u001b[39mfast_info[\u001b[38;5;124m'\u001b[39m\u001b[38;5;124mcurrency\u001b[39m\u001b[38;5;124m'\u001b[39m] \u001b[38;5;241m==\u001b[39m \u001b[38;5;124m\"\u001b[39m\u001b[38;5;124mCAD\u001b[39m\u001b[38;5;124m\"\u001b[39m:                                       \n\u001b[0;32m---> 18\u001b[0m         stocks_df[ticker] \u001b[38;5;241m=\u001b[39m stocks_df[ticker] \u001b[38;5;241m*\u001b[39m exchange_rates\u001b[38;5;241m.\u001b[39mvalues\n\u001b[1;32m     21\u001b[0m \u001b[38;5;28mprint\u001b[39m(stocks_df)\n\u001b[1;32m     22\u001b[0m \u001b[38;5;28mprint\u001b[39m(\u001b[38;5;124m\"\u001b[39m\u001b[38;5;124mStocks STDs:\u001b[39m\u001b[38;5;130;01m\\n\u001b[39;00m\u001b[38;5;124m\"\u001b[39m, stock_stds)\n",
      "File \u001b[0;32m~/anaconda3/lib/python3.11/site-packages/pandas/core/ops/common.py:81\u001b[0m, in \u001b[0;36m_unpack_zerodim_and_defer.<locals>.new_method\u001b[0;34m(self, other)\u001b[0m\n\u001b[1;32m     77\u001b[0m             \u001b[38;5;28;01mreturn\u001b[39;00m \u001b[38;5;28mNotImplemented\u001b[39m\n\u001b[1;32m     79\u001b[0m other \u001b[38;5;241m=\u001b[39m item_from_zerodim(other)\n\u001b[0;32m---> 81\u001b[0m \u001b[38;5;28;01mreturn\u001b[39;00m method(\u001b[38;5;28mself\u001b[39m, other)\n",
      "File \u001b[0;32m~/anaconda3/lib/python3.11/site-packages/pandas/core/arraylike.py:202\u001b[0m, in \u001b[0;36mOpsMixin.__mul__\u001b[0;34m(self, other)\u001b[0m\n\u001b[1;32m    200\u001b[0m \u001b[38;5;129m@unpack_zerodim_and_defer\u001b[39m(\u001b[38;5;124m\"\u001b[39m\u001b[38;5;124m__mul__\u001b[39m\u001b[38;5;124m\"\u001b[39m)\n\u001b[1;32m    201\u001b[0m \u001b[38;5;28;01mdef\u001b[39;00m \u001b[38;5;21m__mul__\u001b[39m(\u001b[38;5;28mself\u001b[39m, other):\n\u001b[0;32m--> 202\u001b[0m     \u001b[38;5;28;01mreturn\u001b[39;00m \u001b[38;5;28mself\u001b[39m\u001b[38;5;241m.\u001b[39m_arith_method(other, operator\u001b[38;5;241m.\u001b[39mmul)\n",
      "File \u001b[0;32m~/anaconda3/lib/python3.11/site-packages/pandas/core/series.py:6112\u001b[0m, in \u001b[0;36mSeries._arith_method\u001b[0;34m(self, other, op)\u001b[0m\n\u001b[1;32m   6110\u001b[0m \u001b[38;5;28;01mdef\u001b[39;00m \u001b[38;5;21m_arith_method\u001b[39m(\u001b[38;5;28mself\u001b[39m, other, op):\n\u001b[1;32m   6111\u001b[0m     \u001b[38;5;28mself\u001b[39m, other \u001b[38;5;241m=\u001b[39m ops\u001b[38;5;241m.\u001b[39malign_method_SERIES(\u001b[38;5;28mself\u001b[39m, other)\n\u001b[0;32m-> 6112\u001b[0m     \u001b[38;5;28;01mreturn\u001b[39;00m base\u001b[38;5;241m.\u001b[39mIndexOpsMixin\u001b[38;5;241m.\u001b[39m_arith_method(\u001b[38;5;28mself\u001b[39m, other, op)\n",
      "File \u001b[0;32m~/anaconda3/lib/python3.11/site-packages/pandas/core/base.py:1348\u001b[0m, in \u001b[0;36mIndexOpsMixin._arith_method\u001b[0;34m(self, other, op)\u001b[0m\n\u001b[1;32m   1345\u001b[0m rvalues \u001b[38;5;241m=\u001b[39m ensure_wrapped_if_datetimelike(rvalues)\n\u001b[1;32m   1347\u001b[0m \u001b[38;5;28;01mwith\u001b[39;00m np\u001b[38;5;241m.\u001b[39merrstate(\u001b[38;5;28mall\u001b[39m\u001b[38;5;241m=\u001b[39m\u001b[38;5;124m\"\u001b[39m\u001b[38;5;124mignore\u001b[39m\u001b[38;5;124m\"\u001b[39m):\n\u001b[0;32m-> 1348\u001b[0m     result \u001b[38;5;241m=\u001b[39m ops\u001b[38;5;241m.\u001b[39marithmetic_op(lvalues, rvalues, op)\n\u001b[1;32m   1350\u001b[0m \u001b[38;5;28;01mreturn\u001b[39;00m \u001b[38;5;28mself\u001b[39m\u001b[38;5;241m.\u001b[39m_construct_result(result, name\u001b[38;5;241m=\u001b[39mres_name)\n",
      "File \u001b[0;32m~/anaconda3/lib/python3.11/site-packages/pandas/core/ops/array_ops.py:232\u001b[0m, in \u001b[0;36marithmetic_op\u001b[0;34m(left, right, op)\u001b[0m\n\u001b[1;32m    228\u001b[0m     _bool_arith_check(op, left, right)\n\u001b[1;32m    230\u001b[0m     \u001b[38;5;66;03m# error: Argument 1 to \"_na_arithmetic_op\" has incompatible type\u001b[39;00m\n\u001b[1;32m    231\u001b[0m     \u001b[38;5;66;03m# \"Union[ExtensionArray, ndarray[Any, Any]]\"; expected \"ndarray[Any, Any]\"\u001b[39;00m\n\u001b[0;32m--> 232\u001b[0m     res_values \u001b[38;5;241m=\u001b[39m _na_arithmetic_op(left, right, op)  \u001b[38;5;66;03m# type: ignore[arg-type]\u001b[39;00m\n\u001b[1;32m    234\u001b[0m \u001b[38;5;28;01mreturn\u001b[39;00m res_values\n",
      "File \u001b[0;32m~/anaconda3/lib/python3.11/site-packages/pandas/core/ops/array_ops.py:171\u001b[0m, in \u001b[0;36m_na_arithmetic_op\u001b[0;34m(left, right, op, is_cmp)\u001b[0m\n\u001b[1;32m    168\u001b[0m     func \u001b[38;5;241m=\u001b[39m partial(expressions\u001b[38;5;241m.\u001b[39mevaluate, op)\n\u001b[1;32m    170\u001b[0m \u001b[38;5;28;01mtry\u001b[39;00m:\n\u001b[0;32m--> 171\u001b[0m     result \u001b[38;5;241m=\u001b[39m func(left, right)\n\u001b[1;32m    172\u001b[0m \u001b[38;5;28;01mexcept\u001b[39;00m \u001b[38;5;167;01mTypeError\u001b[39;00m:\n\u001b[1;32m    173\u001b[0m     \u001b[38;5;28;01mif\u001b[39;00m \u001b[38;5;129;01mnot\u001b[39;00m is_cmp \u001b[38;5;129;01mand\u001b[39;00m (is_object_dtype(left\u001b[38;5;241m.\u001b[39mdtype) \u001b[38;5;129;01mor\u001b[39;00m is_object_dtype(right)):\n\u001b[1;32m    174\u001b[0m         \u001b[38;5;66;03m# For object dtype, fallback to a masked operation (only operating\u001b[39;00m\n\u001b[1;32m    175\u001b[0m         \u001b[38;5;66;03m#  on the non-missing values)\u001b[39;00m\n\u001b[1;32m    176\u001b[0m         \u001b[38;5;66;03m# Don't do this for comparisons, as that will handle complex numbers\u001b[39;00m\n\u001b[1;32m    177\u001b[0m         \u001b[38;5;66;03m#  incorrectly, see GH#32047\u001b[39;00m\n",
      "File \u001b[0;32m~/anaconda3/lib/python3.11/site-packages/pandas/core/computation/expressions.py:239\u001b[0m, in \u001b[0;36mevaluate\u001b[0;34m(op, a, b, use_numexpr)\u001b[0m\n\u001b[1;32m    236\u001b[0m \u001b[38;5;28;01mif\u001b[39;00m op_str \u001b[38;5;129;01mis\u001b[39;00m \u001b[38;5;129;01mnot\u001b[39;00m \u001b[38;5;28;01mNone\u001b[39;00m:\n\u001b[1;32m    237\u001b[0m     \u001b[38;5;28;01mif\u001b[39;00m use_numexpr:\n\u001b[1;32m    238\u001b[0m         \u001b[38;5;66;03m# error: \"None\" not callable\u001b[39;00m\n\u001b[0;32m--> 239\u001b[0m         \u001b[38;5;28;01mreturn\u001b[39;00m _evaluate(op, op_str, a, b)  \u001b[38;5;66;03m# type: ignore[misc]\u001b[39;00m\n\u001b[1;32m    240\u001b[0m \u001b[38;5;28;01mreturn\u001b[39;00m _evaluate_standard(op, op_str, a, b)\n",
      "File \u001b[0;32m~/anaconda3/lib/python3.11/site-packages/pandas/core/computation/expressions.py:128\u001b[0m, in \u001b[0;36m_evaluate_numexpr\u001b[0;34m(op, op_str, a, b)\u001b[0m\n\u001b[1;32m    125\u001b[0m     _store_test_result(result \u001b[38;5;129;01mis\u001b[39;00m \u001b[38;5;129;01mnot\u001b[39;00m \u001b[38;5;28;01mNone\u001b[39;00m)\n\u001b[1;32m    127\u001b[0m \u001b[38;5;28;01mif\u001b[39;00m result \u001b[38;5;129;01mis\u001b[39;00m \u001b[38;5;28;01mNone\u001b[39;00m:\n\u001b[0;32m--> 128\u001b[0m     result \u001b[38;5;241m=\u001b[39m _evaluate_standard(op, op_str, a, b)\n\u001b[1;32m    130\u001b[0m \u001b[38;5;28;01mreturn\u001b[39;00m result\n",
      "File \u001b[0;32m~/anaconda3/lib/python3.11/site-packages/pandas/core/computation/expressions.py:70\u001b[0m, in \u001b[0;36m_evaluate_standard\u001b[0;34m(op, op_str, a, b)\u001b[0m\n\u001b[1;32m     68\u001b[0m \u001b[38;5;28;01mif\u001b[39;00m _TEST_MODE:\n\u001b[1;32m     69\u001b[0m     _store_test_result(\u001b[38;5;28;01mFalse\u001b[39;00m)\n\u001b[0;32m---> 70\u001b[0m \u001b[38;5;28;01mreturn\u001b[39;00m op(a, b)\n",
      "\u001b[0;31mValueError\u001b[0m: operands could not be broadcast together with shapes (208,) (216,) "
     ]
    }
   ],
   "source": [
    "stock_stds = []\n",
    "stocks_df = pd.DataFrame()\n",
    "\n",
    "exchange = yf.Ticker('CADUSD=x')\n",
    "exchange_hist = exchange.history(start=start_date, end=end_date)\n",
    "exchange_rates = exchange_hist.Close\n",
    "##exchange_rates is like 0.71, 0.74\n",
    "\n",
    "for ticker in tickers:\n",
    "    currTicker = yf.Ticker(ticker)\n",
    "    currClose = currTicker.history(start = start_date, end=end_date).Close\n",
    "    currPctChange = currClose.pct_change() * 100\n",
    "    stock_stds.append(currPctChange.std())\n",
    "    stocks_df[ticker] = currClose\n",
    "    stocks_df.dropna()\n",
    "    \n",
    "    if currTicker.fast_info['currency'] == \"CAD\":                                       \n",
    "        stocks_df[ticker] = stocks_df[ticker] * exchange_rates.values\n",
    "    \n",
    "\n",
    "print(stocks_df)\n",
    "print(\"Stocks STDs:\\n\", stock_stds)"
   ]
  },
  {
   "cell_type": "code",
   "execution_count": null,
   "metadata": {},
   "outputs": [],
   "source": []
  },
  {
   "cell_type": "code",
   "execution_count": 20,
   "metadata": {},
   "outputs": [
    {
     "data": {
      "text/plain": [
       "[('SHOP.TO', 1.8105683661552794),\n",
       " ('C', 1.5566636532235243),\n",
       " ('BA', 1.4762120488587196),\n",
       " ('BAC', 1.3851001463957404),\n",
       " ('PYPL', 1.3792816900669551),\n",
       " ('BLK', 1.283591011586973),\n",
       " ('ACN', 1.230450657671246),\n",
       " ('QCOM', 1.2167444394024312),\n",
       " ('AXP', 1.2146616027550952),\n",
       " ('AMZN', 1.1719942897819302),\n",
       " ('UPS', 1.104947577827367),\n",
       " ('UNP', 1.1025177948929588),\n",
       " ('BK', 1.0953384742317638),\n",
       " ('CAT', 1.0879435927701029),\n",
       " ('AIG', 1.0351015073852912),\n",
       " ('USB', 1.0267301548053611),\n",
       " ('TXN', 1.0168285976753872),\n",
       " ('PM', 0.7766931774271923),\n",
       " ('ABT', 0.6933933901170095),\n",
       " ('MO', 0.6535229158839757),\n",
       " ('TD.TO', 0.6386755352088388),\n",
       " ('UNH', 0.6321134549387507),\n",
       " ('PFE', 0.630532058298129),\n",
       " ('LMT', 0.5987248186437317),\n",
       " ('KO', 0.590810772400325),\n",
       " ('PEP', 0.5726422457894019),\n",
       " ('RY.TO', 0.5664459640066557),\n",
       " ('ABBV', 0.5070220648696108),\n",
       " ('PG', 0.47479077827546673),\n",
       " ('CL', 0.4606669226867345),\n",
       " ('T.TO', 0.45966964639659325),\n",
       " ('BMY', 0.3853918172999649),\n",
       " ('MRK', 0.36452661157283855),\n",
       " ('LLY', 0.32391581872471115),\n",
       " ('BIIB', 0.09972287998626737)]"
      ]
     },
     "execution_count": 20,
     "metadata": {},
     "output_type": "execute_result"
    }
   ],
   "source": [
    "marketTicker = yf.Ticker(\"^GSPC\")\n",
    "marketHist = marketTicker.history(start=long_start_date, end=end_date)\n",
    "\n",
    "beta = {}\n",
    "\n",
    "def beta_volatility(ticker):\n",
    "    prices = pd.DataFrame(tickers_long_hist[ticker][\"Close\"])\n",
    "    prices.columns = [ticker]\n",
    "    prices[\"Market\"] = marketHist['Close']\n",
    "\n",
    "    monthly_change = prices.resample(\"M\").ffill().pct_change()\n",
    "    monthly_change = monthly_change.drop(index=monthly_change.index[0])\n",
    "\n",
    "    return (monthly_change.cov()/monthly_change[\"Market\"].var()).iat[0, 1]\n",
    "\n",
    "\n",
    "for ticker in tickers:\n",
    "    beta[ticker] = beta_volatility(ticker)\n",
    "\n",
    "sorted(beta.items(), key=lambda x:x[1], reverse=True)\n"
   ]
  },
  {
   "cell_type": "code",
   "execution_count": 21,
   "metadata": {},
   "outputs": [],
   "source": [
    "def correlation(stock1, stock2):\n",
    "    stock1Hist = tickers_hist[stock1].copy()\n",
    "    stock2Hist = tickers_hist[stock2].copy()\n",
    "\n",
    "    prices = pd.DataFrame(stock1Hist[\"Close\"])\n",
    "    prices.columns = [stock1]\n",
    "    prices[stock2] = stock2Hist[\"Close\"]\n",
    "    \n",
    "    monthly_returns = prices.resample('M').ffill().pct_change()\n",
    "    monthly_returns.drop(index=monthly_returns.index[0], inplace=True)\n",
    "\n",
    "    return monthly_returns.corr()"
   ]
  },
  {
   "cell_type": "markdown",
   "metadata": {},
   "source": [
    "## Contribution Declaration\n",
    "\n",
    "The following team members made a meaningful contribution to this assignment:\n",
    "\n",
    "Insert Names Here."
   ]
  }
 ],
 "metadata": {
  "kernelspec": {
   "display_name": "Python 3 (ipykernel)",
   "language": "python",
   "name": "python3"
  },
  "language_info": {
   "codemirror_mode": {
    "name": "ipython",
    "version": 3
   },
   "file_extension": ".py",
   "mimetype": "text/x-python",
   "name": "python",
   "nbconvert_exporter": "python",
   "pygments_lexer": "ipython3",
   "version": "3.11.5"
  }
 },
 "nbformat": 4,
 "nbformat_minor": 2
}
