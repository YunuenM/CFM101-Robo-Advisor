{
 "cells": [
  {
   "cell_type": "code",
   "execution_count": 1,
   "metadata": {},
   "outputs": [],
   "source": [
    "from IPython.display import display, Math, Latex\n",
    "\n",
    "import pandas as pd\n",
    "import numpy as np\n",
    "import numpy_financial as npf\n",
    "import yfinance as yf\n",
    "import matplotlib.pyplot as plt\n",
    "from datetime import datetime"
   ]
  },
  {
   "cell_type": "markdown",
   "metadata": {},
   "source": [
    "## Group Assignment\n",
    "### Team Number: 16\n",
    "### Team Member Names: Matthew Gong, Arya Patel, Saihej Singh\n",
    "### Team Strategy Chosen: __________(RISKY OR SAFE)"
   ]
  },
  {
   "cell_type": "code",
   "execution_count": 21,
   "metadata": {},
   "outputs": [
    {
     "name": "stderr",
     "output_type": "stream",
     "text": [
      "AGN: No timezone found, symbol may be delisted\n"
     ]
    },
    {
     "name": "stdout",
     "output_type": "stream",
     "text": [
      "AGN is delisted.\n"
     ]
    },
    {
     "name": "stderr",
     "output_type": "stream",
     "text": [
      "CELG: No timezone found, symbol may be delisted\n"
     ]
    },
    {
     "name": "stdout",
     "output_type": "stream",
     "text": [
      "CELG is delisted.\n"
     ]
    },
    {
     "name": "stderr",
     "output_type": "stream",
     "text": [
      "MON: No timezone found, symbol may be delisted\n"
     ]
    },
    {
     "name": "stdout",
     "output_type": "stream",
     "text": [
      "MON is delisted.\n"
     ]
    },
    {
     "name": "stderr",
     "output_type": "stream",
     "text": [
      "RTN: No timezone found, symbol may be delisted\n"
     ]
    },
    {
     "name": "stdout",
     "output_type": "stream",
     "text": [
      "RTN is delisted.\n",
      "[['ABBV']\n",
      " ['ABT']\n",
      " ['ACN']\n",
      " ['AGN']\n",
      " ['AIG']\n",
      " ['AMZN']\n",
      " ['AXP']\n",
      " ['BA']\n",
      " ['BAC']\n",
      " ['BIIB']\n",
      " ['BK']\n",
      " ['BLK']\n",
      " ['BMY']\n",
      " ['C']\n",
      " ['CAT']\n",
      " ['CELG']\n",
      " ['CL']\n",
      " ['KO']\n",
      " ['LLY']\n",
      " ['LMT']\n",
      " ['MO']\n",
      " ['MON']\n",
      " ['MRK']\n",
      " ['PEP']\n",
      " ['PFE']\n",
      " ['PG']\n",
      " ['PM']\n",
      " ['PYPL']\n",
      " ['QCOM']\n",
      " ['RTN']\n",
      " ['RY.TO']\n",
      " ['SHOP.TO']\n",
      " ['T.TO']\n",
      " ['TD.TO']\n",
      " ['TXN']\n",
      " ['UNH']\n",
      " ['UNP']\n",
      " ['UPS']\n",
      " ['USB']\n",
      " ['YCBD']]\n"
     ]
    }
   ],
   "source": [
    "possibleTickers = pd.read_csv(\"Tickers_Example.csv\")\n",
    "tickers = []\n",
    "tickers_hist = {}\n",
    "tickers_long_hist = {}\n",
    "minVolume = 150000\n",
    "allowed_currencies = [\"USD\", \"CAD\"]\n",
    "start_date = \"2023-01-01\"\n",
    "end_date = \"2023-10-31\"\n",
    "long_start_date = \"2018-10-31\"\n",
    "threshold_day = 18\n",
    "days_in_month = []\n",
    "\n",
    "for ticker in possibleTickers[possibleTickers.columns.values[0]]:\n",
    "    currTicker = yf.Ticker(ticker)\n",
    "    currHist = currTicker.history(start=start_date, end=end_date)\n",
    "    currFastInfo = currTicker.fast_info\n",
    "\n",
    "    if currHist.empty:\n",
    "        print(ticker, \"is delisted.\")\n",
    "    elif currTicker in tickers:\n",
    "        print(ticker, \"is a duplicate.\")\n",
    "    else:\n",
    "        tickers_hist[ticker] = currHist\n",
    "        tickers_long_hist[ticker] = currTicker.history(start=long_start_date, end=end_date)\n",
    "\n",
    "        group_months = currHist.reset_index().groupby(pd.Grouper(key='Date', freq='M'))\n",
    "        dfs = [group for _, group in group_months]\n",
    "        filtered_dfs = []\n",
    "        for i, df in enumerate(dfs):\n",
    "            #recombine all the months with more trading days than set threshold\n",
    "            if len(df.index) >= threshold_day:\n",
    "                days_in_month.append(len(df.index))\n",
    "                filtered_dfs.append(df)\n",
    "        currHist_updated = pd.concat(filtered_dfs)\n",
    "        currHist_updated.set_index(\"Date\", inplace=True)\n",
    "\n",
    "        if ticker in tickers:\n",
    "            print(ticker, \"is duplicate\")\n",
    "        elif currFastInfo[\"currency\"] not in allowed_currencies:\n",
    "            print(ticker, \"is not in USD or CAD\")\n",
    "        elif currHist[\"Volume\"].mean() * (np.mean(days_in_month)) < minVolume:\n",
    "            print(ticker, \"only has a volume of\", currFastInfo[\"lastVolume\"], \"and average days of\", np.mean(days_in_month))\n",
    "        else:\n",
    "            tickers.append(ticker)\n",
    "\n",
    "print(possibleTickers.values)"
   ]
  },
  {
   "cell_type": "code",
   "execution_count": 22,
   "metadata": {},
   "outputs": [
    {
     "name": "stderr",
     "output_type": "stream",
     "text": [
      "C:\\Users\\matth\\AppData\\Local\\Temp\\ipykernel_180\\48051138.py:11: FutureWarning: The default fill_method='pad' in DataFrame.pct_change is deprecated and will be removed in a future version. Call ffill before calling pct_change to retain current behavior and silence this warning.\n",
      "  monthly_change = prices.resample(\"M\").ffill().pct_change()\n",
      "C:\\Users\\matth\\AppData\\Local\\Temp\\ipykernel_180\\48051138.py:11: FutureWarning: The default fill_method='pad' in DataFrame.pct_change is deprecated and will be removed in a future version. Call ffill before calling pct_change to retain current behavior and silence this warning.\n",
      "  monthly_change = prices.resample(\"M\").ffill().pct_change()\n",
      "C:\\Users\\matth\\AppData\\Local\\Temp\\ipykernel_180\\48051138.py:11: FutureWarning: The default fill_method='pad' in DataFrame.pct_change is deprecated and will be removed in a future version. Call ffill before calling pct_change to retain current behavior and silence this warning.\n",
      "  monthly_change = prices.resample(\"M\").ffill().pct_change()\n",
      "C:\\Users\\matth\\AppData\\Local\\Temp\\ipykernel_180\\48051138.py:11: FutureWarning: The default fill_method='pad' in DataFrame.pct_change is deprecated and will be removed in a future version. Call ffill before calling pct_change to retain current behavior and silence this warning.\n",
      "  monthly_change = prices.resample(\"M\").ffill().pct_change()\n"
     ]
    },
    {
     "data": {
      "text/plain": [
       "[('YCBD', 2.1401685163092337),\n",
       " ('SHOP.TO', 1.8105683661552798),\n",
       " ('C', 1.5566634647492017),\n",
       " ('BA', 1.4762119826728957),\n",
       " ('BAC', 1.3851004801566917),\n",
       " ('PYPL', 1.379281690066955),\n",
       " ('BLK', 1.2835911068998493),\n",
       " ('ACN', 1.23045059202993),\n",
       " ('QCOM', 1.2167444255405166),\n",
       " ('AXP', 1.2146618730775025),\n",
       " ('AMZN', 1.1719942897819302),\n",
       " ('UPS', 1.104947789428036),\n",
       " ('UNP', 1.1025185401495559),\n",
       " ('BK', 1.095339131727691),\n",
       " ('CAT', 1.0879436753753293),\n",
       " ('AIG', 1.0351018552031348),\n",
       " ('USB', 1.0267302590287006),\n",
       " ('TXN', 1.0168278673298132),\n",
       " ('PM', 0.776693239874068),\n",
       " ('ABT', 0.6933949493135634),\n",
       " ('MO', 0.6535228633258505),\n",
       " ('TD.TO', 0.6386754199351966),\n",
       " ('UNH', 0.6321140262217283),\n",
       " ('PFE', 0.6305321995674552),\n",
       " ('LMT', 0.5987252905970897),\n",
       " ('KO', 0.5908107221173703),\n",
       " ('PEP', 0.5726422638704429),\n",
       " ('RY.TO', 0.5664455168681224),\n",
       " ('ABBV', 0.5070220958555529),\n",
       " ('PG', 0.4747910915156738),\n",
       " ('CL', 0.46066659442551405),\n",
       " ('T.TO', 0.4596691542353901),\n",
       " ('BMY', 0.3853920943321375),\n",
       " ('MRK', 0.36452714524973245),\n",
       " ('LLY', 0.32391592888123144),\n",
       " ('BIIB', 0.09972287998626737)]"
      ]
     },
     "execution_count": 22,
     "metadata": {},
     "output_type": "execute_result"
    }
   ],
   "source": [
    "marketTicker = yf.Ticker(\"^GSPC\")\n",
    "marketHist = marketTicker.history(start=long_start_date, end=end_date)\n",
    "\n",
    "beta = {}\n",
    "\n",
    "def beta_volatility(ticker):\n",
    "    prices = pd.DataFrame(tickers_long_hist[ticker][\"Close\"])\n",
    "    prices.columns = [ticker]\n",
    "    prices[\"Market\"] = marketHist['Close']\n",
    "\n",
    "    monthly_change = prices.resample(\"M\").ffill().pct_change()\n",
    "    monthly_change = monthly_change.drop(index=monthly_change.index[0])\n",
    "\n",
    "    return (monthly_change.cov()/monthly_change[\"Market\"].var()).iat[0, 1]\n",
    "\n",
    "\n",
    "for ticker in tickers:\n",
    "    beta[ticker] = beta_volatility(ticker)\n",
    "\n",
    "sorted(beta.items(), key=lambda x:x[1], reverse=True)\n"
   ]
  },
  {
   "cell_type": "code",
   "execution_count": null,
   "metadata": {},
   "outputs": [],
   "source": [
    "def correlation(stock1, stock2):\n",
    "    stock1Hist = tickers_hist[stock1].copy()\n",
    "    stock2Hist = tickers_hist[stock2].copy()\n",
    "\n",
    "    prices = pd.DataFrame(stock1Hist[\"Close\"])\n",
    "    prices.columns = [stock1]\n",
    "    prices[stock2] = stock2Hist[\"Close\"]\n",
    "    \n",
    "    monthly_returns = prices.resample('M').ffill().pct_change()\n",
    "    monthly_returns.drop(index=monthly_returns.index[0], inplace=True)\n",
    "\n",
    "    return monthly_returns.corr()"
   ]
  },
  {
   "cell_type": "markdown",
   "metadata": {},
   "source": [
    "## Contribution Declaration\n",
    "\n",
    "The following team members made a meaningful contribution to this assignment:\n",
    "\n",
    "Insert Names Here."
   ]
  }
 ],
 "metadata": {
  "kernelspec": {
   "display_name": "Python 3",
   "language": "python",
   "name": "python3"
  },
  "language_info": {
   "codemirror_mode": {
    "name": "ipython",
    "version": 3
   },
   "file_extension": ".py",
   "mimetype": "text/x-python",
   "name": "python",
   "nbconvert_exporter": "python",
   "pygments_lexer": "ipython3",
   "version": "3.11.4"
  }
 },
 "nbformat": 4,
 "nbformat_minor": 2
}
