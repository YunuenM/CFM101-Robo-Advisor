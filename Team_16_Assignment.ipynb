{
 "cells": [
  {
   "cell_type": "code",
   "execution_count": 2,
   "metadata": {},
   "outputs": [],
   "source": [
    "from IPython.display import display, Math, Latex\n",
    "\n",
    "import pandas as pd\n",
    "import numpy as np\n",
    "import numpy_financial as npf\n",
    "import yfinance as yf\n",
    "import matplotlib.pyplot as plt\n",
    "from datetime import datetime"
   ]
  },
  {
   "cell_type": "markdown",
   "metadata": {},
   "source": [
    "## Group Assignment\n",
    "### Team Number: 16\n",
    "### Team Member Names: Matthew Gong, Arya Patel, Saihej Singh\n",
    "### Team Strategy Chosen: __________(RISKY OR SAFE)"
   ]
  },
  {
   "cell_type": "code",
   "execution_count": 3,
   "metadata": {},
   "outputs": [
    {
     "name": "stderr",
     "output_type": "stream",
     "text": [
      "AGN: No timezone found, symbol may be delisted\n"
     ]
    },
    {
     "name": "stdout",
     "output_type": "stream",
     "text": [
      "AGN is delisted.\n"
     ]
    },
    {
     "name": "stderr",
     "output_type": "stream",
     "text": [
      "CELG: No timezone found, symbol may be delisted\n"
     ]
    },
    {
     "name": "stdout",
     "output_type": "stream",
     "text": [
      "CELG is delisted.\n"
     ]
    },
    {
     "name": "stderr",
     "output_type": "stream",
     "text": [
      "MON: No timezone found, symbol may be delisted\n"
     ]
    },
    {
     "name": "stdout",
     "output_type": "stream",
     "text": [
      "MON is delisted.\n"
     ]
    },
    {
     "name": "stderr",
     "output_type": "stream",
     "text": [
      "RTN: No timezone found, symbol may be delisted\n"
     ]
    },
    {
     "name": "stdout",
     "output_type": "stream",
     "text": [
      "RTN is delisted.\n",
      "RY.TO is not in USD.\n",
      "SHOP.TO is not in USD.\n",
      "T.TO is not in USD.\n",
      "TD.TO is not in USD.\n",
      "[['ABBV']\n",
      " ['ABT']\n",
      " ['ACN']\n",
      " ['AGN']\n",
      " ['AIG']\n",
      " ['AMZN']\n",
      " ['AXP']\n",
      " ['BA']\n",
      " ['BAC']\n",
      " ['BIIB']\n",
      " ['BK']\n",
      " ['BLK']\n",
      " ['BMY']\n",
      " ['C']\n",
      " ['CAT']\n",
      " ['CELG']\n",
      " ['CL']\n",
      " ['KO']\n",
      " ['LLY']\n",
      " ['LMT']\n",
      " ['MO']\n",
      " ['MON']\n",
      " ['MRK']\n",
      " ['PEP']\n",
      " ['PFE']\n",
      " ['PG']\n",
      " ['PM']\n",
      " ['PYPL']\n",
      " ['QCOM']\n",
      " ['RTN']\n",
      " ['RY.TO']\n",
      " ['SHOP.TO']\n",
      " ['T.TO']\n",
      " ['TD.TO']\n",
      " ['TXN']\n",
      " ['UNH']\n",
      " ['UNP']\n",
      " ['UPS']\n",
      " ['USB']]\n"
     ]
    }
   ],
   "source": [
    "possibleTickers = pd.read_csv(\"Tickers_Example.csv\")\n",
    "tickers = []\n",
    "tickers_hist = {}\n",
    "minVolume = 100000\n",
    "currency = \"USD\"\n",
    "start_date = \"2022-01-01\"\n",
    "\n",
    "\n",
    "for ticker in possibleTickers[possibleTickers.columns.values[0]]:\n",
    "    currTicker = yf.Ticker(ticker)\n",
    "    currHist = currTicker.history(start=start_date)\n",
    "    currFastInfo = currTicker.fast_info\n",
    "\n",
    "    if currHist.empty:\n",
    "        print(ticker, \"is delisted.\")\n",
    "    elif currTicker in tickers:\n",
    "        print(ticker, \"is a duplicate.\")\n",
    "    else:\n",
    "        tickers_hist[ticker] = currHist\n",
    "        if currFastInfo[\"currency\"] != currency:\n",
    "            print(ticker, \"is not in USD.\")\n",
    "        elif currHist[\"Volume\"].mean() < minVolume:\n",
    "            print(ticker, \"only has a volum of\", currFastInfo[\"lastVolume\"])\n",
    "        else:\n",
    "            tickers.append(ticker)\n",
    "\n",
    "print(possibleTickers.values)"
   ]
  },
  {
   "cell_type": "code",
   "execution_count": 22,
   "metadata": {},
   "outputs": [
    {
     "name": "stderr",
     "output_type": "stream",
     "text": [
      "C:\\Users\\matth\\AppData\\Local\\Temp\\ipykernel_26088\\3118751706.py:5: FutureWarning: The default fill_method='pad' in DataFrame.pct_change is deprecated and will be removed in a future version. Call ffill before calling pct_change to retain current behavior and silence this warning.\n",
      "  monthly_change = monthly_change.resample(\"M\").ffill().pct_change()\n"
     ]
    },
    {
     "ename": "TypeError",
     "evalue": "Series.cov() missing 1 required positional argument: 'other'",
     "output_type": "error",
     "traceback": [
      "\u001b[1;31m---------------------------------------------------------------------------\u001b[0m",
      "\u001b[1;31mTypeError\u001b[0m                                 Traceback (most recent call last)",
      "\u001b[1;32mc:\\Users\\matth\\OneDrive\\Documents\\School\\First Year\\CFM 101\\Team Project\\Team_16_Assignment.ipynb Cell 4\u001b[0m line \u001b[0;36m1\n\u001b[0;32m      <a href='vscode-notebook-cell:/c%3A/Users/matth/OneDrive/Documents/School/First%20Year/CFM%20101/Team%20Project/Team_16_Assignment.ipynb#W3sZmlsZQ%3D%3D?line=7'>8</a>\u001b[0m     \u001b[39m#return monthly_change\u001b[39;00m\n\u001b[0;32m      <a href='vscode-notebook-cell:/c%3A/Users/matth/OneDrive/Documents/School/First%20Year/CFM%20101/Team%20Project/Team_16_Assignment.ipynb#W3sZmlsZQ%3D%3D?line=8'>9</a>\u001b[0m     \u001b[39mreturn\u001b[39;00m monthly_change[\u001b[39m\"\u001b[39m\u001b[39mClose\u001b[39m\u001b[39m\"\u001b[39m]\u001b[39m.\u001b[39mcov()\u001b[39m/\u001b[39mmonthly_change[\u001b[39m\"\u001b[39m\u001b[39mMarket\u001b[39m\u001b[39m\"\u001b[39m]\u001b[39m.\u001b[39mvar()\n\u001b[1;32m---> <a href='vscode-notebook-cell:/c%3A/Users/matth/OneDrive/Documents/School/First%20Year/CFM%20101/Team%20Project/Team_16_Assignment.ipynb#W3sZmlsZQ%3D%3D?line=10'>11</a>\u001b[0m beta_volatility(\u001b[39m\"\u001b[39;49m\u001b[39mUSB\u001b[39;49m\u001b[39m\"\u001b[39;49m)\n",
      "\u001b[1;32mc:\\Users\\matth\\OneDrive\\Documents\\School\\First Year\\CFM 101\\Team Project\\Team_16_Assignment.ipynb Cell 4\u001b[0m line \u001b[0;36m9\n\u001b[0;32m      <a href='vscode-notebook-cell:/c%3A/Users/matth/OneDrive/Documents/School/First%20Year/CFM%20101/Team%20Project/Team_16_Assignment.ipynb#W3sZmlsZQ%3D%3D?line=5'>6</a>\u001b[0m monthly_change \u001b[39m=\u001b[39m monthly_change\u001b[39m.\u001b[39mdrop([monthly_change\u001b[39m.\u001b[39mindex[\u001b[39m0\u001b[39m]])\n\u001b[0;32m      <a href='vscode-notebook-cell:/c%3A/Users/matth/OneDrive/Documents/School/First%20Year/CFM%20101/Team%20Project/Team_16_Assignment.ipynb#W3sZmlsZQ%3D%3D?line=7'>8</a>\u001b[0m \u001b[39m#return monthly_change\u001b[39;00m\n\u001b[1;32m----> <a href='vscode-notebook-cell:/c%3A/Users/matth/OneDrive/Documents/School/First%20Year/CFM%20101/Team%20Project/Team_16_Assignment.ipynb#W3sZmlsZQ%3D%3D?line=8'>9</a>\u001b[0m \u001b[39mreturn\u001b[39;00m monthly_change[\u001b[39m\"\u001b[39;49m\u001b[39mClose\u001b[39;49m\u001b[39m\"\u001b[39;49m]\u001b[39m.\u001b[39;49mcov()\u001b[39m/\u001b[39mmonthly_change[\u001b[39m\"\u001b[39m\u001b[39mMarket\u001b[39m\u001b[39m\"\u001b[39m]\u001b[39m.\u001b[39mvar()\n",
      "\u001b[1;31mTypeError\u001b[0m: Series.cov() missing 1 required positional argument: 'other'"
     ]
    }
   ],
   "source": [
    "def beta_volatility(ticker):\n",
    "    monthly_change = tickers_hist[ticker].copy()\n",
    "    monthly_change[\"Market\"] = yf.Ticker(\"^GSPC\").history(start=start_date)[\"Close\"]\n",
    "    monthly_change = monthly_change.drop(columns=[\"Dividends\", \"Stock Splits\"])\n",
    "    monthly_change = monthly_change.resample(\"M\").ffill().pct_change()\n",
    "    monthly_change = monthly_change.drop([monthly_change.index[0]])\n",
    "\n",
    "    #return monthly_change\n",
    "    return monthly_change.cov()/monthly_change[\"Market\"].var()\n",
    "\n",
    "beta_volatility(\"USB\")\n"
   ]
  },
  {
   "cell_type": "markdown",
   "metadata": {},
   "source": [
    "## Contribution Declaration\n",
    "\n",
    "The following team members made a meaningful contribution to this assignment:\n",
    "\n",
    "Insert Names Here."
   ]
  }
 ],
 "metadata": {
  "kernelspec": {
   "display_name": "Python 3",
   "language": "python",
   "name": "python3"
  },
  "language_info": {
   "codemirror_mode": {
    "name": "ipython",
    "version": 3
   },
   "file_extension": ".py",
   "mimetype": "text/x-python",
   "name": "python",
   "nbconvert_exporter": "python",
   "pygments_lexer": "ipython3",
   "version": "3.11.4"
  }
 },
 "nbformat": 4,
 "nbformat_minor": 2
}
