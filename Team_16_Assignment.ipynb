{
 "cells": [
  {
   "cell_type": "code",
   "execution_count": 27,
   "metadata": {},
   "outputs": [],
   "source": [
    "from IPython.display import display, Math, Latex\n",
    "\n",
    "import pandas as pd\n",
    "import numpy as np\n",
    "import numpy_financial as npf\n",
    "import yfinance as yf\n",
    "import matplotlib.pyplot as plt\n",
    "from datetime import datetime"
   ]
  },
  {
   "cell_type": "markdown",
   "metadata": {},
   "source": [
    "## Group Assignment\n",
    "### Team Number: 16\n",
    "### Team Member Names: Matthew Gong, Arya Patel, Saihej Singh\n",
    "### Team Strategy Chosen: __________(RISKY OR SAFE)"
   ]
  },
  {
   "cell_type": "code",
   "execution_count": 31,
   "metadata": {},
   "outputs": [
    {
     "name": "stderr",
     "output_type": "stream",
     "text": [
      "AGN: No timezone found, symbol may be delisted\n"
     ]
    },
    {
     "name": "stdout",
     "output_type": "stream",
     "text": [
      "AGN is delisted.\n"
     ]
    },
    {
     "name": "stderr",
     "output_type": "stream",
     "text": [
      "CELG: No timezone found, symbol may be delisted\n"
     ]
    },
    {
     "name": "stdout",
     "output_type": "stream",
     "text": [
      "CELG is delisted.\n"
     ]
    },
    {
     "name": "stderr",
     "output_type": "stream",
     "text": [
      "MON: No timezone found, symbol may be delisted\n"
     ]
    },
    {
     "name": "stdout",
     "output_type": "stream",
     "text": [
      "MON is delisted.\n"
     ]
    },
    {
     "name": "stderr",
     "output_type": "stream",
     "text": [
      "RTN: No timezone found, symbol may be delisted\n"
     ]
    },
    {
     "name": "stdout",
     "output_type": "stream",
     "text": [
      "RTN is delisted.\n",
      "YCBD is a duplicate.\n",
      "['ABBV', 'ABT', 'ACN', 'AIG', 'AMZN', 'AXP', 'BA', 'BAC', 'BIIB', 'BK', 'BLK', 'BMY', 'C', 'CAT', 'CL', 'KO', 'LLY', 'LMT', 'MO', 'MRK', 'PEP', 'PFE', 'PG', 'PM', 'PYPL', 'QCOM', 'RY.TO', 'SHOP.TO', 'T.TO', 'TD.TO', 'TXN', 'UNH', 'UNP', 'UPS', 'USB', 'YCBD']\n"
     ]
    }
   ],
   "source": [
    "possibleTickers = pd.read_csv(\"Tickers_Example.csv\")\n",
    "tickers = []\n",
    "tickers_hist = {}\n",
    "tickers_long_hist = {}\n",
    "minVolume = 150000\n",
    "allowed_currencies = [\"USD\", \"CAD\"]\n",
    "start_date = \"2023-01-01\"\n",
    "end_date = \"2023-10-31\"\n",
    "long_start_date = \"2018-10-31\"\n",
    "threshold_day = 18\n",
    "days_in_month = []\n",
    "\n",
    "for ticker in possibleTickers[possibleTickers.columns.values[0]]:\n",
    "    currTicker = yf.Ticker(ticker)\n",
    "    currHist = currTicker.history(start=start_date, end=end_date)\n",
    "    currFastInfo = currTicker.fast_info\n",
    "\n",
    "    if currHist.empty:\n",
    "        print(ticker, \"is delisted.\")\n",
    "    elif ticker in tickers:\n",
    "        print(ticker, \"is a duplicate.\")\n",
    "    else:\n",
    "        tickers_hist[ticker] = currHist\n",
    "        tickers_long_hist[ticker] = currTicker.history(start=long_start_date, end=end_date)\n",
    "\n",
    "        group_months = currHist.reset_index().groupby(pd.Grouper(key='Date', freq='M'))\n",
    "        dfs = [group for _, group in group_months]\n",
    "        filtered_dfs = []\n",
    "        for i, df in enumerate(dfs):\n",
    "            #recombine all the months with more trading days than set threshold\n",
    "            if len(df.index) >= threshold_day:\n",
    "                days_in_month.append(len(df.index))\n",
    "                filtered_dfs.append(df)\n",
    "        currHist_updated = pd.concat(filtered_dfs)\n",
    "        currHist_updated.set_index(\"Date\", inplace=True)\n",
    "\n",
    "        if currFastInfo[\"currency\"] not in allowed_currencies:\n",
    "            print(ticker, \"is not in USD or CAD\")\n",
    "        elif currHist[\"Volume\"].mean() * (np.mean(days_in_month)) < minVolume:\n",
    "            print(ticker, \"only has a volume of\", currFastInfo[\"lastVolume\"], \"and average days of\", np.mean(days_in_month))\n",
    "        else:\n",
    "            tickers.append(ticker)\n",
    "\n",
    "print(tickers)"
   ]
  },
  {
   "cell_type": "code",
   "execution_count": 32,
   "metadata": {},
   "outputs": [
    {
     "name": "stderr",
     "output_type": "stream",
     "text": [
      "C:\\Users\\matth\\AppData\\Local\\Temp\\ipykernel_180\\48051138.py:11: FutureWarning: The default fill_method='pad' in DataFrame.pct_change is deprecated and will be removed in a future version. Call ffill before calling pct_change to retain current behavior and silence this warning.\n",
      "  monthly_change = prices.resample(\"M\").ffill().pct_change()\n",
      "C:\\Users\\matth\\AppData\\Local\\Temp\\ipykernel_180\\48051138.py:11: FutureWarning: The default fill_method='pad' in DataFrame.pct_change is deprecated and will be removed in a future version. Call ffill before calling pct_change to retain current behavior and silence this warning.\n",
      "  monthly_change = prices.resample(\"M\").ffill().pct_change()\n",
      "C:\\Users\\matth\\AppData\\Local\\Temp\\ipykernel_180\\48051138.py:11: FutureWarning: The default fill_method='pad' in DataFrame.pct_change is deprecated and will be removed in a future version. Call ffill before calling pct_change to retain current behavior and silence this warning.\n",
      "  monthly_change = prices.resample(\"M\").ffill().pct_change()\n",
      "C:\\Users\\matth\\AppData\\Local\\Temp\\ipykernel_180\\48051138.py:11: FutureWarning: The default fill_method='pad' in DataFrame.pct_change is deprecated and will be removed in a future version. Call ffill before calling pct_change to retain current behavior and silence this warning.\n",
      "  monthly_change = prices.resample(\"M\").ffill().pct_change()\n"
     ]
    },
    {
     "data": {
      "text/plain": [
       "[('YCBD', 2.1401685163092337),\n",
       " ('SHOP.TO', 1.8105683661552798),\n",
       " ('C', 1.5566632037877992),\n",
       " ('BA', 1.4762120958789395),\n",
       " ('BAC', 1.3851004089369816),\n",
       " ('PYPL', 1.379281690066955),\n",
       " ('BLK', 1.2835913572078048),\n",
       " ('ACN', 1.2304498749633876),\n",
       " ('QCOM', 1.2167443165555458),\n",
       " ('AXP', 1.214661990624904),\n",
       " ('AMZN', 1.1719942897819302),\n",
       " ('UPS', 1.104947635301972),\n",
       " ('UNP', 1.102517118852132),\n",
       " ('BK', 1.095338473906119),\n",
       " ('CAT', 1.087943298515294),\n",
       " ('AIG', 1.035101793224145),\n",
       " ('USB', 1.0267306045263955),\n",
       " ('TXN', 1.016827553644017),\n",
       " ('PM', 0.7766934886658905),\n",
       " ('ABT', 0.6933942169732435),\n",
       " ('MO', 0.6535227838115535),\n",
       " ('TD.TO', 0.6386753994827417),\n",
       " ('UNH', 0.6321135065675938),\n",
       " ('PFE', 0.6305321953920194),\n",
       " ('LMT', 0.5987255032149958),\n",
       " ('KO', 0.5908110704103807),\n",
       " ('PEP', 0.5726421817967551),\n",
       " ('RY.TO', 0.5664454522261506),\n",
       " ('ABBV', 0.5070224586012692),\n",
       " ('PG', 0.47479098903495087),\n",
       " ('CL', 0.4606673166245231),\n",
       " ('T.TO', 0.45967015160937147),\n",
       " ('BMY', 0.3853920009847),\n",
       " ('MRK', 0.36452714367144273),\n",
       " ('LLY', 0.32391621355315525),\n",
       " ('BIIB', 0.09972287998626737)]"
      ]
     },
     "execution_count": 32,
     "metadata": {},
     "output_type": "execute_result"
    }
   ],
   "source": [
    "marketTicker = yf.Ticker(\"^GSPC\")\n",
    "marketHist = marketTicker.history(start=long_start_date, end=end_date)\n",
    "\n",
    "beta = {}\n",
    "\n",
    "def beta_volatility(ticker):\n",
    "    prices = pd.DataFrame(tickers_long_hist[ticker][\"Close\"])\n",
    "    prices.columns = [ticker]\n",
    "    prices[\"Market\"] = marketHist['Close']\n",
    "\n",
    "    monthly_change = prices.resample(\"M\").ffill().pct_change()\n",
    "    monthly_change = monthly_change.drop(index=monthly_change.index[0])\n",
    "\n",
    "    return (monthly_change.cov()/monthly_change[\"Market\"].var()).iat[0, 1]\n",
    "\n",
    "\n",
    "for ticker in tickers:\n",
    "    beta[ticker] = beta_volatility(ticker)\n",
    "\n",
    "sorted(beta.items(), key=lambda x:x[1], reverse=True)\n"
   ]
  },
  {
   "cell_type": "code",
   "execution_count": 30,
   "metadata": {},
   "outputs": [],
   "source": [
    "def correlation(stock1, stock2):\n",
    "    stock1Hist = tickers_hist[stock1].copy()\n",
    "    stock2Hist = tickers_hist[stock2].copy()\n",
    "\n",
    "    prices = pd.DataFrame(stock1Hist[\"Close\"])\n",
    "    prices.columns = [stock1]\n",
    "    prices[stock2] = stock2Hist[\"Close\"]\n",
    "    \n",
    "    monthly_returns = prices.resample('M').ffill().pct_change()\n",
    "    monthly_returns.drop(index=monthly_returns.index[0], inplace=True)\n",
    "\n",
    "    return monthly_returns.corr()"
   ]
  },
  {
   "cell_type": "markdown",
   "metadata": {},
   "source": [
    "## Contribution Declaration\n",
    "\n",
    "The following team members made a meaningful contribution to this assignment:\n",
    "\n",
    "Insert Names Here."
   ]
  }
 ],
 "metadata": {
  "kernelspec": {
   "display_name": "Python 3",
   "language": "python",
   "name": "python3"
  },
  "language_info": {
   "codemirror_mode": {
    "name": "ipython",
    "version": 3
   },
   "file_extension": ".py",
   "mimetype": "text/x-python",
   "name": "python",
   "nbconvert_exporter": "python",
   "pygments_lexer": "ipython3",
   "version": "3.11.4"
  }
 },
 "nbformat": 4,
 "nbformat_minor": 2
}
