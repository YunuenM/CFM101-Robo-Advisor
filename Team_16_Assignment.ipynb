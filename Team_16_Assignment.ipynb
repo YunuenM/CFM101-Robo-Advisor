{
 "cells": [
  {
   "cell_type": "code",
   "execution_count": 1,
   "metadata": {},
   "outputs": [],
   "source": [
    "from IPython.display import display, Math, Latex\n",
    "\n",
    "import pandas as pd\n",
    "import numpy as np\n",
    "import numpy_financial as npf\n",
    "import yfinance as yf\n",
    "import matplotlib.pyplot as plt\n",
    "from datetime import datetime"
   ]
  },
  {
   "cell_type": "markdown",
   "metadata": {},
   "source": [
    "## Group Assignment\n",
    "### Team Number: 16\n",
    "### Team Member Names: Matthew Gong, Arya Patel, Saihej Singh\n",
    "### Team Strategy Chosen: __________(RISKY OR SAFE)"
   ]
  },
  {
   "cell_type": "code",
   "execution_count": 6,
   "metadata": {},
   "outputs": [
    {
     "name": "stderr",
     "output_type": "stream",
     "text": [
      "AGN: No timezone found, symbol may be delisted\n"
     ]
    },
    {
     "name": "stdout",
     "output_type": "stream",
     "text": [
      "AGN is delisted.\n"
     ]
    },
    {
     "name": "stderr",
     "output_type": "stream",
     "text": [
      "CELG: No timezone found, symbol may be delisted\n"
     ]
    },
    {
     "name": "stdout",
     "output_type": "stream",
     "text": [
      "CELG is delisted.\n"
     ]
    },
    {
     "name": "stderr",
     "output_type": "stream",
     "text": [
      "MON: No timezone found, symbol may be delisted\n"
     ]
    },
    {
     "name": "stdout",
     "output_type": "stream",
     "text": [
      "MON is delisted.\n"
     ]
    },
    {
     "name": "stderr",
     "output_type": "stream",
     "text": [
      "RTN: No timezone found, symbol may be delisted\n"
     ]
    },
    {
     "name": "stdout",
     "output_type": "stream",
     "text": [
      "RTN is delisted.\n",
      "[['ABBV']\n",
      " ['ABT']\n",
      " ['ACN']\n",
      " ['AGN']\n",
      " ['AIG']\n",
      " ['AMZN']\n",
      " ['AXP']\n",
      " ['BA']\n",
      " ['BAC']\n",
      " ['BIIB']\n",
      " ['BK']\n",
      " ['BLK']\n",
      " ['BMY']\n",
      " ['C']\n",
      " ['CAT']\n",
      " ['CELG']\n",
      " ['CL']\n",
      " ['KO']\n",
      " ['LLY']\n",
      " ['LMT']\n",
      " ['MO']\n",
      " ['MON']\n",
      " ['MRK']\n",
      " ['PEP']\n",
      " ['PFE']\n",
      " ['PG']\n",
      " ['PM']\n",
      " ['PYPL']\n",
      " ['QCOM']\n",
      " ['RTN']\n",
      " ['RY.TO']\n",
      " ['SHOP.TO']\n",
      " ['T.TO']\n",
      " ['TD.TO']\n",
      " ['TXN']\n",
      " ['UNH']\n",
      " ['UNP']\n",
      " ['UPS']\n",
      " ['USB']\n",
      " ['YCBD']]\n"
     ]
    }
   ],
   "source": [
    "possibleTickers = pd.read_csv(\"Tickers_Example.csv\")\n",
    "tickers = []\n",
    "tickers_hist = {}\n",
    "minVolume = 150000\n",
    "allowed_currencies = [\"USD\", \"CAD\"]\n",
    "start_date = \"2023-01-01\"\n",
    "end_date = \"2023-10-31\"\n",
    "threshold_day = 18\n",
    "days_in_month = []\n",
    "\n",
    "for ticker in possibleTickers[possibleTickers.columns.values[0]]:\n",
    "    currTicker = yf.Ticker(ticker)\n",
    "    currHist = currTicker.history(start=start_date, end=end_date)\n",
    "    currFastInfo = currTicker.fast_info\n",
    "\n",
    "    if currHist.empty:\n",
    "        print(ticker, \"is delisted.\")\n",
    "    elif currTicker in tickers:\n",
    "        print(ticker, \"is a duplicate.\")\n",
    "    else:\n",
    "        tickers_hist[ticker] = currHist\n",
    "\n",
    "        group_months = currHist.reset_index().groupby(pd.Grouper(key='Date', freq='M'))\n",
    "        dfs = [group for _, group in group_months]\n",
    "        filtered_dfs = []\n",
    "        for i, df in enumerate(dfs):\n",
    "            #recombine all the months with more trading days than set threshold\n",
    "            if len(df.index) >= threshold_day:\n",
    "                days_in_month.append(len(df.index))\n",
    "                filtered_dfs.append(df)\n",
    "        currHist_updated = pd.concat(filtered_dfs)\n",
    "        currHist_updated.set_index(\"Date\", inplace=True)\n",
    "\n",
    "        if currFastInfo[\"currency\"] not in allowed_currencies:\n",
    "            print(ticker, \"is not in USD or CAD\")\n",
    "        elif currHist[\"Volume\"].mean() * (np.mean(days_in_month)) < minVolume:\n",
    "            print(ticker, \"only has a volume of\", currFastInfo[\"lastVolume\"], \"and average days of\", np.mean(days_in_month))\n",
    "        else:\n",
    "            tickers.append(ticker)\n",
    "\n",
    "print(possibleTickers.values)"
   ]
  },
  {
   "cell_type": "code",
   "execution_count": 20,
   "metadata": {},
   "outputs": [
    {
     "data": {
      "text/plain": [
       "[('SHOP.TO', 2.7475907339436922),\n",
       " ('PYPL', 2.193305236670926),\n",
       " ('BA', 1.7387713711598616),\n",
       " ('CAT', 1.6534184714952074),\n",
       " ('UPS', 1.5430320889311957),\n",
       " ('BLK', 1.3281095376598537),\n",
       " ('ABT', 1.3104263068093212),\n",
       " ('USB', 1.2971088786584422),\n",
       " ('QCOM', 1.2793977558010605),\n",
       " ('AMZN', 1.2636591614049615),\n",
       " ('PM', 1.1651537550803623),\n",
       " ('TXN', 1.158627139701168),\n",
       " ('PG', 1.0755680237009173),\n",
       " ('UNP', 0.9635634449080173),\n",
       " ('AXP', 0.8367512182241356),\n",
       " ('ACN', 0.7941966209662137),\n",
       " ('PEP', 0.7896180076397445),\n",
       " ('KO', 0.7773029185547554),\n",
       " ('BAC', 0.7608869979450263),\n",
       " ('LLY', 0.7371024835053319),\n",
       " ('BMY', 0.6469187132974675),\n",
       " ('TD.TO', 0.6268886354981764),\n",
       " ('RY.TO', 0.6013089816327523),\n",
       " ('C', 0.5797286138979415),\n",
       " ('BK', 0.5535650947784039),\n",
       " ('PFE', 0.539162016045789),\n",
       " ('MO', 0.48960658835810733),\n",
       " ('CL', 0.48704390419199417),\n",
       " ('BIIB', 0.4641406400885526),\n",
       " ('MRK', 0.4529446738198995),\n",
       " ('T.TO', 0.2948843491627961),\n",
       " ('ABBV', 0.21542835233673022),\n",
       " ('LMT', 0.16324632397902603),\n",
       " ('AIG', 0.15446911271574792),\n",
       " ('UNH', -0.08820935143294882),\n",
       " ('YCBD', -0.6468452655406173)]"
      ]
     },
     "execution_count": 20,
     "metadata": {},
     "output_type": "execute_result"
    }
   ],
   "source": [
    "marketTicker = yf.Ticker(\"^GSPC\")\n",
    "marketHist = marketTicker.history(start=start_date, end=end_date)\n",
    "\n",
    "beta = {}\n",
    "\n",
    "def beta_volatility(ticker):\n",
    "    prices = pd.DataFrame(tickers_hist[ticker][\"Close\"])\n",
    "    prices.columns = [ticker]\n",
    "    prices[\"Market\"] = marketHist['Close']\n",
    "\n",
    "    monthly_change = prices.resample(\"M\").ffill().pct_change()\n",
    "    monthly_change = monthly_change.drop(index=monthly_change.index[0])\n",
    "\n",
    "    return (monthly_change.cov()/monthly_change[\"Market\"].var()).iat[0, 1]\n",
    "\n",
    "\n",
    "for ticker in tickers:\n",
    "    beta[ticker] = beta_volatility(ticker)\n",
    "\n",
    "sorted(beta.items(), key=lambda x:x[1], reverse=True)\n"
   ]
  },
  {
   "cell_type": "code",
   "execution_count": null,
   "metadata": {},
   "outputs": [],
   "source": [
    "def correlation(stock1, stock2):\n",
    "    stock1Hist = tickers_hist[stock1].copy()\n",
    "    stock2Hist = tickers_hist[stock2].copy()\n",
    "\n",
    "    prices = pd.DataFrame(stock1Hist[\"Close\"])\n",
    "    prices.columns = [stock1]\n",
    "    prices[stock2] = stock2Hist[\"Close\"]\n",
    "    \n",
    "    monthly_returns = prices.resample('M').ffill().pct_change()\n",
    "    monthly_returns.drop(index=monthly_returns.index[0], inplace=True)\n",
    "\n",
    "    return monthly_returns.corr()"
   ]
  },
  {
   "cell_type": "markdown",
   "metadata": {},
   "source": [
    "## Contribution Declaration\n",
    "\n",
    "The following team members made a meaningful contribution to this assignment:\n",
    "\n",
    "Insert Names Here."
   ]
  }
 ],
 "metadata": {
  "kernelspec": {
   "display_name": "Python 3",
   "language": "python",
   "name": "python3"
  },
  "language_info": {
   "codemirror_mode": {
    "name": "ipython",
    "version": 3
   },
   "file_extension": ".py",
   "mimetype": "text/x-python",
   "name": "python",
   "nbconvert_exporter": "python",
   "pygments_lexer": "ipython3",
   "version": "3.11.4"
  }
 },
 "nbformat": 4,
 "nbformat_minor": 2
}
